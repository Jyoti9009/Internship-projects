{
 "cells": [
  {
   "cell_type": "code",
   "execution_count": 3,
   "id": "1a3dda4d",
   "metadata": {},
   "outputs": [],
   "source": [
    "import re"
   ]
  },
  {
   "cell_type": "code",
   "execution_count": 4,
   "id": "5cb95a52",
   "metadata": {},
   "outputs": [
    {
     "name": "stdout",
     "output_type": "stream",
     "text": [
      "Python Exercises: PHP exercises\n"
     ]
    }
   ],
   "source": [
    "text= 'Python Exercises, PHP exercises'\n",
    "result= re.sub(r'[,.]', ':', text)\n",
    "print (result)               "
   ]
  },
  {
   "cell_type": "code",
   "execution_count": 4,
   "id": "672b6f18",
   "metadata": {},
   "outputs": [],
   "source": [
    "import pandas as pd"
   ]
  },
  {
   "cell_type": "code",
   "execution_count": 11,
   "id": "2afa1224",
   "metadata": {},
   "outputs": [
    {
     "name": "stdout",
     "output_type": "stream",
     "text": [
      "         SUMMARY\n",
      "0     helloworld\n",
      "1      XXXXXtest\n",
      "2  four five six\n"
     ]
    }
   ],
   "source": [
    "data= {'SUMMARY': ['hello,world!', 'XXXXXtest', '123four, five:; six...']}\n",
    "df=pd.DataFrame(data)\n",
    "df['SUMMARY'] = df['SUMMARY'].apply(lambda x: re.sub(r'[^a-zA-Z\\s]', '', x))\n",
    "print(df)"
   ]
  },
  {
   "cell_type": "code",
   "execution_count": 12,
   "id": "31fe3fd2",
   "metadata": {},
   "outputs": [
    {
     "name": "stdout",
     "output_type": "stream",
     "text": [
      "['This', 'sample', 'text', 'with', 'some', 'words', 'various', 'lengths', 'like', 'hello', 'world', 'python']\n"
     ]
    }
   ],
   "source": [
    "text = \"This is a sample text with some words of various lengths like hello, world, python, etc.\"\n",
    "def find_words(string):\n",
    "    pattern= re.compile(r'\\b\\w{4,}\\b')\n",
    "    matches=pattern.findall(string)\n",
    "    return matches\n",
    "result= find_words(text)\n",
    "print (result)"
   ]
  },
  {
   "cell_type": "code",
   "execution_count": 14,
   "id": "065a257d",
   "metadata": {},
   "outputs": [
    {
     "name": "stdout",
     "output_type": "stream",
     "text": [
      "['The', 'isnt', 'who', 'going', 'let', 'its', 'who', 'going', 'stop']\n"
     ]
    }
   ],
   "source": [
    "text= \"The question isnt who is going to let me its who is going to stop me\"\n",
    "def find_words(string):\n",
    "    pattern= re.compile(r'\\b\\w{3,5}\\b')\n",
    "    matches= pattern.findall(string)\n",
    "    return matches\n",
    "result= find_words(text)\n",
    "print (result)"
   ]
  },
  {
   "cell_type": "code",
   "execution_count": 25,
   "id": "c9bfd0b4",
   "metadata": {},
   "outputs": [
    {
     "name": "stdout",
     "output_type": "stream",
     "text": [
      "['example.com', 'hr@fliprobo.com', 'github.com', 'HelloData Science World', 'DataScientist']\n"
     ]
    }
   ],
   "source": [
    "sample_text = [\"example (.com)\", \"hr@fliprobo (.com)\", \"github (.com)\", \"Hello (Data Science World)\", \"Data (Scientist)\"]\n",
    "def remove_parenthesis(strings):\n",
    "    pattern= re.compile(r'\\s*\\(([^)]*)\\)(?:\\s|$)')\n",
    "    matches=[pattern.sub(r'\\1', s) for s in strings]\n",
    "    return matches\n",
    "result= remove_parenthesis(sample_text)\n",
    "print (result)"
   ]
  },
  {
   "cell_type": "code",
   "execution_count": 26,
   "id": "3699567b",
   "metadata": {},
   "outputs": [
    {
     "name": "stdout",
     "output_type": "stream",
     "text": [
      "['example', 'hr@fliprobo', 'github', 'Hello', 'Data']\n"
     ]
    }
   ],
   "source": [
    "sample_text = [\"example (.com)\", \"hr@fliprobo (.com)\", \"github (.com)\", \"Hello (Data Science World)\", \"Data (Scientist)\"]\n",
    "def remove_parenthesis(strings):\n",
    "    pattern = re.compile(r'\\s*\\([^)]*\\)(?:\\s|$)')\n",
    "    matches= [pattern.sub('', s) for s in strings]\n",
    "    return matches\n",
    "result= remove_parenthesis(sample_text)\n",
    "print(result)\n"
   ]
  },
  {
   "cell_type": "code",
   "execution_count": 27,
   "id": "727c55ee",
   "metadata": {},
   "outputs": [
    {
     "name": "stdout",
     "output_type": "stream",
     "text": [
      "['', 'Importance', 'Of', 'Regular', 'Expressions', 'In', 'Python']\n"
     ]
    }
   ],
   "source": [
    "string= \"ImportanceOfRegularExpressionsInPython\"\n",
    "pattern= r'(?=[A-Z])'\n",
    "words= re.split(pattern,string)\n",
    "print(words)"
   ]
  },
  {
   "cell_type": "code",
   "execution_count": 32,
   "id": "f904f0e8",
   "metadata": {},
   "outputs": [
    {
     "name": "stdout",
     "output_type": "stream",
     "text": [
      "RegularExpression 1IsAn 2ImportantTopic 3InPython\n"
     ]
    }
   ],
   "source": [
    "string = \"RegularExpression1IsAn2ImportantTopic3InPython\"\n",
    "def insert_spaces(string):\n",
    "    pattern= r'(?<=\\D)(?=\\d)'\n",
    "    matches= re.sub(pattern,' ', string)\n",
    "    return matches\n",
    "result= insert_spaces(string)\n",
    "print (result)"
   ]
  },
  {
   "cell_type": "code",
   "execution_count": 52,
   "id": "250a6f74",
   "metadata": {},
   "outputs": [
    {
     "name": "stdout",
     "output_type": "stream",
     "text": [
      " Regular Expression1 Is An2 Important Topic3 In Python\n"
     ]
    }
   ],
   "source": [
    "def insert_spaces(text):\n",
    "   \n",
    "    spaced_text = re.sub(r'([A-Z0-9])([a-z0-9])',r' \\1\\2', text)\n",
    "    return spaced_text\n",
    "\n",
    "sample_text = \"RegularExpression1IsAn2ImportantTopic3InPython\"\n",
    "\n",
    "output_text = insert_spaces(sample_text)\n",
    "print(output_text)\n"
   ]
  },
  {
   "cell_type": "code",
   "execution_count": 53,
   "id": "3dec9184",
   "metadata": {},
   "outputs": [
    {
     "name": "stdout",
     "output_type": "stream",
     "text": [
      "       Country          Region  Happiness Rank  Happiness Score  \\\n",
      "0  Switzerland  Western Europe               1            7.587   \n",
      "1      Iceland  Western Europe               2            7.561   \n",
      "2      Denmark  Western Europe               3            7.527   \n",
      "3       Norway  Western Europe               4            7.522   \n",
      "4       Canada   North America               5            7.427   \n",
      "\n",
      "   Standard Error  Economy (GDP per Capita)   Family  \\\n",
      "0         0.03411                   1.39651  1.34951   \n",
      "1         0.04884                   1.30232  1.40223   \n",
      "2         0.03328                   1.32548  1.36058   \n",
      "3         0.03880                   1.45900  1.33095   \n",
      "4         0.03553                   1.32629  1.32261   \n",
      "\n",
      "   Health (Life Expectancy)  Freedom  Trust (Government Corruption)  \\\n",
      "0                   0.94143  0.66557                        0.41978   \n",
      "1                   0.94784  0.62877                        0.14145   \n",
      "2                   0.87464  0.64938                        0.48357   \n",
      "3                   0.88521  0.66973                        0.36503   \n",
      "4                   0.90563  0.63297                        0.32957   \n",
      "\n",
      "   Generosity  Dystopia Residual first_five_letters  \n",
      "0     0.29678            2.51738             Switze  \n",
      "1     0.43630            2.70201             Icelan  \n",
      "2     0.34139            2.49204             Denmar  \n",
      "3     0.34699            2.46531             Norway  \n",
      "4     0.45811            2.45176             Canada  \n"
     ]
    }
   ],
   "source": [
    "url = \"https://raw.githubusercontent.com/dsrscientist/DSData/master/happiness_score_dataset.csv\"\n",
    "df = pd.read_csv(url)\n",
    "df['first_five_letters'] = df['Country'].str[:6]\n",
    "\n",
    "print(df.head())\n"
   ]
  },
  {
   "cell_type": "code",
   "execution_count": 58,
   "id": "be4b61cd",
   "metadata": {},
   "outputs": [
    {
     "name": "stdout",
     "output_type": "stream",
     "text": [
      "Enter an IP address with leading zeros: 000006422\n",
      "IP address without leading zeros: 6422\n"
     ]
    }
   ],
   "source": [
    "ip_address = input(\"Enter an IP address with leading zeros: \")\n",
    "\n",
    "def remove_leading_zeros(ip_address):\n",
    "    ip_address_without_zeros = re.sub(r'\\b0+(\\d)', r'\\1', ip_address)\n",
    "    return ip_address_without_zeros\n",
    "\n",
    "ip_address_without_zeros = remove_leading_zeros(ip_address)\n",
    "print(\"IP address without leading zeros:\", ip_address_without_zeros)\n"
   ]
  },
  {
   "cell_type": "code",
   "execution_count": 9,
   "id": "3c372736",
   "metadata": {},
   "outputs": [
    {
     "name": "stdout",
     "output_type": "stream",
     "text": [
      "Found words: ['fox', 'dog']\n"
     ]
    }
   ],
   "source": [
    "sample_text = 'The quick brown fox jumps over the lazy dog.'\n",
    "searched_words = ['fox', 'dog', 'horse']\n",
    "\n",
    "def search_strings(text, searched_words):\n",
    "    found_words = []\n",
    "    for word in searched_words:\n",
    "        if re.search(word, text):\n",
    "            found_words.append(word)\n",
    "    return found_words\n",
    "\n",
    "found_words = search_strings(sample_text, searched_words)\n",
    "print(\"Found words:\", found_words)"
   ]
  },
  {
   "cell_type": "code",
   "execution_count": 10,
   "id": "4961a23d",
   "metadata": {},
   "outputs": [
    {
     "name": "stdout",
     "output_type": "stream",
     "text": [
      "Found substrings: ['exercises', 'exercises', 'exercises']\n"
     ]
    }
   ],
   "source": [
    "sample_text = 'Python exercises, PHP exercises, C# exercises'\n",
    "pattern = 'exercises'\n",
    "\n",
    "def find_substrings(text, pattern):\n",
    "    substrings = re.findall(pattern, text)\n",
    "    return substrings\n",
    "\n",
    "substrings = find_substrings(sample_text, pattern)\n",
    "print(\"Found substrings:\", substrings)"
   ]
  },
  {
   "cell_type": "code",
   "execution_count": 11,
   "id": "b4c2aadc",
   "metadata": {},
   "outputs": [
    {
     "name": "stdout",
     "output_type": "stream",
     "text": [
      "Converted date: 27-04-2024\n"
     ]
    }
   ],
   "source": [
    "from datetime import datetime\n",
    "\n",
    "def convert_date_format(date_str):\n",
    "    date_obj = datetime.strptime(date_str, '%Y-%m-%d')\n",
    "    formatted_date = date_obj.strftime('%d-%m-%Y')\n",
    "    return formatted_date\n",
    "\n",
    "date_str = '2024-04-27'\n",
    "converted_date = convert_date_format(date_str)\n",
    "print(\"Converted date:\", converted_date)"
   ]
  },
  {
   "cell_type": "code",
   "execution_count": 14,
   "id": "68b83094",
   "metadata": {},
   "outputs": [
    {
     "name": "stdout",
     "output_type": "stream",
     "text": [
      "Decimal numbers with precision of 1 or 2: ['01.12', '145.8', '3.01', '27.25', '0.25']\n"
     ]
    }
   ],
   "source": [
    "def find_decimal_numbers(text):\n",
    "    pattern = re.compile(r'\\b\\d+\\.\\d{1,2}\\b')\n",
    "    decimal_numbers = pattern.findall(text)\n",
    "    return decimal_numbers\n",
    "\n",
    "sample_text = \"01.12 0132.123 2.31875 145.8 3.01 27.25 0.25\"\n",
    "decimal_numbers = find_decimal_numbers(sample_text)\n",
    "print(\"Decimal numbers with precision of 1 or 2:\", decimal_numbers)"
   ]
  },
  {
   "cell_type": "code",
   "execution_count": 15,
   "id": "1421675a",
   "metadata": {},
   "outputs": [
    {
     "name": "stdout",
     "output_type": "stream",
     "text": [
      "Maximum number: 950\n"
     ]
    }
   ],
   "source": [
    "def extract_maximum_number(text):\n",
    "    numbers = re.findall(r'\\b\\d+\\b', text)\n",
    "    if numbers:\n",
    "        max_number = max(map(int, numbers))\n",
    "        return max_number\n",
    "    else:\n",
    "        return None\n",
    "\n",
    "sample_text = 'My marks in each semester are: 947, 896, 926, 524, 734, 950, 642'\n",
    "max_number = extract_maximum_number(sample_text)\n",
    "print(\"Maximum number:\", max_number)"
   ]
  },
  {
   "cell_type": "code",
   "execution_count": 16,
   "id": "83611e90",
   "metadata": {},
   "outputs": [
    {
     "name": "stdout",
     "output_type": "stream",
     "text": [
      "Output: Regular Expression Is An Important Topic In Python\n"
     ]
    }
   ],
   "source": [
    "def insert_spaces(text):\n",
    "    words = re.findall('[a-zA-Z][^A-Z]*', text)\n",
    "    return ' '.join(words)\n",
    "\n",
    "sample_text = \"RegularExpressionIsAnImportantTopicInPython\"\n",
    "output_text = insert_spaces(sample_text)\n",
    "print(\"Output:\", output_text)"
   ]
  },
  {
   "cell_type": "code",
   "execution_count": 17,
   "id": "9147e22f",
   "metadata": {},
   "outputs": [
    {
     "name": "stdout",
     "output_type": "stream",
     "text": [
      "Sequences of one upper case letter followed by lower case letters:\n",
      "['This', 'Is', 'Sample', 'Text', 'With', 'Some', 'Sequences', 'Upper', 'Case', 'Lower', 'Case', 'Letters', 'This', 'One']\n"
     ]
    }
   ],
   "source": [
    "text = \"This Is a Sample Text With Some Sequences of Upper Case and Lower Case Letters like ThisOne.\"\n",
    "\n",
    "sequences = re.findall(r'[A-Z][a-z]+', text)\n",
    "print(\"Sequences of one upper case letter followed by lower case letters:\")\n",
    "print(sequences)"
   ]
  },
  {
   "cell_type": "code",
   "execution_count": 18,
   "id": "38d032c6",
   "metadata": {},
   "outputs": [
    {
     "name": "stdout",
     "output_type": "stream",
     "text": [
      "Cleaned text: Hello hello world\n"
     ]
    }
   ],
   "source": [
    "def remove_continuous_duplicates(sentence):\n",
    "    cleaned_sentence = re.sub(r'\\b(\\w+)(\\s+\\1)+\\b', r'\\1', sentence)\n",
    "    return cleaned_sentence\n",
    "\n",
    "sample_text = \"Hello hello world world\"\n",
    "cleaned_text = remove_continuous_duplicates(sample_text)\n",
    "print(\"Cleaned text:\", cleaned_text)"
   ]
  },
  {
   "cell_type": "code",
   "execution_count": 21,
   "id": "b7b65a2e",
   "metadata": {},
   "outputs": [
    {
     "name": "stdout",
     "output_type": "stream",
     "text": [
      "Enter a string: ghjk@\n",
      "Invalid string. It should end with an alphanumeric character.\n"
     ]
    }
   ],
   "source": [
    "def check_string(input_string):\n",
    "    pattern = r'^.*[a-zA-Z0-9]$'\n",
    "    if re.match(pattern, input_string):\n",
    "        print(\"Valid string ending with alphanumeric character.\")\n",
    "    else:\n",
    "        print(\"Invalid string. It should end with an alphanumeric character.\")\n",
    "\n",
    "input_string = input(\"Enter a string: \")\n",
    "check_string(input_string)"
   ]
  },
  {
   "cell_type": "code",
   "execution_count": 22,
   "id": "57a9dc71",
   "metadata": {},
   "outputs": [
    {
     "name": "stdout",
     "output_type": "stream",
     "text": [
      "Extracted Hashtags: ['#Doltiwal', '#xyzabc', '#Demonetization']\n"
     ]
    }
   ],
   "source": [
    "def extract_hashtags(text):\n",
    "    pattern = r'#\\w+'  # RegEx pattern to match hashtags\n",
    "    hashtags = re.findall(pattern, text)\n",
    "    return hashtags\n",
    "\n",
    "sample_text = \"\"\"RT @kapil_kausik: #Doltiwal I mean #xyzabc is \"hurt\" by #Demonetization as the same has rendered USELESS <ed><U+00A0><U+00BD><ed><U+00B1><U+0089> \"acquired funds\" No wo\"\"\"\n",
    "\n",
    "hashtags = extract_hashtags(sample_text)\n",
    "print(\"Extracted Hashtags:\", hashtags)"
   ]
  },
  {
   "cell_type": "code",
   "execution_count": 26,
   "id": "c445ff52",
   "metadata": {},
   "outputs": [
    {
     "name": "stdout",
     "output_type": "stream",
     "text": [
      "Cleaned Text:  following example creates  ArrayList  a capacity   elements. 4 elements   added   ArrayList   ArrayList  trimmed accordingly.\n"
     ]
    }
   ],
   "source": [
    "sample_text = \"The following example creates an ArrayList with a capacity of 50 elements. 4 elements are then added to the ArrayList and the ArrayList is trimmed accordingly.\"\n",
    "\n",
    "def remove_words_of_length_2_to_4(text):\n",
    "    pattern = re.compile(r'\\b\\w{2,4}\\b')\n",
    "    cleaned_text = re.sub(pattern, '', text)\n",
    "    return cleaned_text\n",
    "\n",
    "cleaned_text = remove_words_of_length_2_to_4(sample_text)\n",
    "print(\"Cleaned Text:\", cleaned_text)"
   ]
  },
  {
   "cell_type": "code",
   "execution_count": null,
   "id": "8c54ad5d",
   "metadata": {},
   "outputs": [],
   "source": []
  }
 ],
 "metadata": {
  "kernelspec": {
   "display_name": "Python 3 (ipykernel)",
   "language": "python",
   "name": "python3"
  },
  "language_info": {
   "codemirror_mode": {
    "name": "ipython",
    "version": 3
   },
   "file_extension": ".py",
   "mimetype": "text/x-python",
   "name": "python",
   "nbconvert_exporter": "python",
   "pygments_lexer": "ipython3",
   "version": "3.11.5"
  }
 },
 "nbformat": 4,
 "nbformat_minor": 5
}
