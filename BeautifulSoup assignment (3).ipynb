{
 "cells": [
  {
   "cell_type": "code",
   "execution_count": null,
   "id": "9dda7327",
   "metadata": {},
   "outputs": [],
   "source": [
    "!pip install bs4\n",
    "!pip install requests"
   ]
  },
  {
   "cell_type": "code",
   "execution_count": null,
   "id": "5cba12b0",
   "metadata": {},
   "outputs": [],
   "source": [
    "from bs4 import  BeautifulSoup\n",
    "import requests"
   ]
  },
  {
   "cell_type": "code",
   "execution_count": null,
   "id": "b597b617",
   "metadata": {},
   "outputs": [],
   "source": [
    "page= requests.get('https://www.imdb.com/list/ls056092300/')"
   ]
  },
  {
   "cell_type": "code",
   "execution_count": null,
   "id": "de3e5234",
   "metadata": {},
   "outputs": [],
   "source": [
    "page"
   ]
  },
  {
   "cell_type": "code",
   "execution_count": null,
   "id": "62d61093",
   "metadata": {},
   "outputs": [],
   "source": [
    "page= requests.get('https://www.imdb.com/search/title/?groups=top_100&sort=user_rating,desc')"
   ]
  },
  {
   "cell_type": "code",
   "execution_count": null,
   "id": "b8dbb4f1",
   "metadata": {},
   "outputs": [],
   "source": [
    "page"
   ]
  },
  {
   "cell_type": "code",
   "execution_count": null,
   "id": "7b698e63",
   "metadata": {},
   "outputs": [],
   "source": [
    "page= requests.get('https://www.patreon.com/coreyms')"
   ]
  },
  {
   "cell_type": "code",
   "execution_count": null,
   "id": "c08b6a64",
   "metadata": {},
   "outputs": [],
   "source": [
    "page"
   ]
  },
  {
   "cell_type": "code",
   "execution_count": null,
   "id": "bc1732b9",
   "metadata": {},
   "outputs": [],
   "source": [
    "soup= BeautifulSoup(page.content)"
   ]
  },
  {
   "cell_type": "code",
   "execution_count": null,
   "id": "19a798e8",
   "metadata": {},
   "outputs": [],
   "source": [
    "soup"
   ]
  },
  {
   "cell_type": "code",
   "execution_count": null,
   "id": "9dc797e5",
   "metadata": {},
   "outputs": [],
   "source": [
    "heading= soup.find('div', class_=\"sc-bBHxTw\")"
   ]
  },
  {
   "cell_type": "code",
   "execution_count": null,
   "id": "103b8fe2",
   "metadata": {},
   "outputs": [],
   "source": [
    "heading"
   ]
  },
  {
   "cell_type": "code",
   "execution_count": null,
   "id": "d275ef04",
   "metadata": {},
   "outputs": [],
   "source": [
    "heading.text"
   ]
  },
  {
   "cell_type": "code",
   "execution_count": null,
   "id": "a90c1d21",
   "metadata": {},
   "outputs": [],
   "source": [
    "#question 1 denied web scrapping it gives 403 error"
   ]
  },
  {
   "cell_type": "code",
   "execution_count": null,
   "id": "9a11d6a7",
   "metadata": {},
   "outputs": [],
   "source": [
    "#Question 2 and question 3 also gives error it does not extract data from sites"
   ]
  },
  {
   "cell_type": "code",
   "execution_count": null,
   "id": "c895559b",
   "metadata": {},
   "outputs": [],
   "source": [
    "page= requests.get('https://www.bewakoof.com/bestseller?sort=popular%20')"
   ]
  },
  {
   "cell_type": "code",
   "execution_count": null,
   "id": "9d0e1ef0",
   "metadata": {},
   "outputs": [],
   "source": [
    "page"
   ]
  },
  {
   "cell_type": "code",
   "execution_count": null,
   "id": "e0e2ca32",
   "metadata": {},
   "outputs": [],
   "source": [
    "soup= BeautifulSoup(page.content)"
   ]
  },
  {
   "cell_type": "code",
   "execution_count": null,
   "id": "75521e05",
   "metadata": {},
   "outputs": [],
   "source": [
    "soup"
   ]
  },
  {
   "cell_type": "code",
   "execution_count": null,
   "id": "2d3266d7",
   "metadata": {},
   "outputs": [],
   "source": [
    "product_name=soup.find('div', class_=\"productNaming bkf-ellipsis\")"
   ]
  },
  {
   "cell_type": "code",
   "execution_count": null,
   "id": "9b11058a",
   "metadata": {},
   "outputs": [],
   "source": [
    "product_name"
   ]
  },
  {
   "cell_type": "code",
   "execution_count": null,
   "id": "fd379151",
   "metadata": {},
   "outputs": [],
   "source": [
    "product_name.text"
   ]
  },
  {
   "cell_type": "code",
   "execution_count": null,
   "id": "ff844635",
   "metadata": {},
   "outputs": [],
   "source": [
    "names= []"
   ]
  },
  {
   "cell_type": "code",
   "execution_count": null,
   "id": "782b957f",
   "metadata": {},
   "outputs": [],
   "source": [
    "for i in soup.find_all('div',class_=\"productNaming bkf-ellipsis\"):\n",
    "    names.append(i.text)"
   ]
  },
  {
   "cell_type": "code",
   "execution_count": null,
   "id": "364d68b5",
   "metadata": {},
   "outputs": [],
   "source": [
    "names"
   ]
  },
  {
   "cell_type": "code",
   "execution_count": null,
   "id": "5ffe85b4",
   "metadata": {},
   "outputs": [],
   "source": [
    "prices=[]\n",
    "Images=[]"
   ]
  },
  {
   "cell_type": "code",
   "execution_count": null,
   "id": "c3ece6d1",
   "metadata": {},
   "outputs": [],
   "source": [
    "for i in soup.find_all('div',class_=\"discountedPriceText\"):\n",
    "    prices.append(i.text)"
   ]
  },
  {
   "cell_type": "code",
   "execution_count": null,
   "id": "6319730a",
   "metadata": {},
   "outputs": [],
   "source": [
    "prices"
   ]
  },
  {
   "cell_type": "code",
   "execution_count": null,
   "id": "7a5574c9",
   "metadata": {},
   "outputs": [],
   "source": [
    "price=soup.find('div',class_=\"productPriceBox\")"
   ]
  },
  {
   "cell_type": "code",
   "execution_count": null,
   "id": "1295a2cc",
   "metadata": {},
   "outputs": [],
   "source": [
    "price"
   ]
  },
  {
   "cell_type": "code",
   "execution_count": null,
   "id": "31da30f7",
   "metadata": {},
   "outputs": [],
   "source": [
    "price.text"
   ]
  },
  {
   "cell_type": "code",
   "execution_count": null,
   "id": "80ba5d57",
   "metadata": {},
   "outputs": [],
   "source": [
    "images=[]"
   ]
  },
  {
   "cell_type": "code",
   "execution_count": null,
   "id": "3bb47cbe",
   "metadata": {},
   "outputs": [],
   "source": [
    "image=soup.find('img',class_=\"productImgTag\")"
   ]
  },
  {
   "cell_type": "code",
   "execution_count": null,
   "id": "37afbeea",
   "metadata": {},
   "outputs": [],
   "source": [
    "image"
   ]
  },
  {
   "cell_type": "code",
   "execution_count": null,
   "id": "ddcd74f2",
   "metadata": {},
   "outputs": [],
   "source": [
    "images=[]"
   ]
  },
  {
   "cell_type": "code",
   "execution_count": null,
   "id": "e94783c6",
   "metadata": {},
   "outputs": [],
   "source": [
    "for i in soup.find_all('img',class_=\"productImgTag\"):\n",
    "    images.append(i['data-src'])"
   ]
  },
  {
   "cell_type": "code",
   "execution_count": null,
   "id": "f16e31a2",
   "metadata": {},
   "outputs": [],
   "source": [
    "page= requests.get('https://www.cnbc.com/world/?region=world')"
   ]
  },
  {
   "cell_type": "code",
   "execution_count": null,
   "id": "9a546bae",
   "metadata": {},
   "outputs": [],
   "source": [
    "page"
   ]
  },
  {
   "cell_type": "code",
   "execution_count": null,
   "id": "2acd39c8",
   "metadata": {},
   "outputs": [],
   "source": [
    "soup= BeautifulSoup(page.content)"
   ]
  },
  {
   "cell_type": "code",
   "execution_count": null,
   "id": "97fa99fb",
   "metadata": {},
   "outputs": [],
   "source": [
    "soup"
   ]
  },
  {
   "cell_type": "code",
   "execution_count": null,
   "id": "9202f63e",
   "metadata": {},
   "outputs": [],
   "source": [
    "news_link=soup.find('div',class_=\"RiverHeadline-headline RiverHeadline-hasThumbnail\")"
   ]
  },
  {
   "cell_type": "code",
   "execution_count": null,
   "id": "282e3eba",
   "metadata": {},
   "outputs": [],
   "source": [
    "news_link"
   ]
  },
  {
   "cell_type": "code",
   "execution_count": null,
   "id": "e53f27b9",
   "metadata": {},
   "outputs": [],
   "source": [
    "news_link.text"
   ]
  },
  {
   "cell_type": "code",
   "execution_count": null,
   "id": "72342815",
   "metadata": {},
   "outputs": [],
   "source": [
    "links=[]"
   ]
  },
  {
   "cell_type": "code",
   "execution_count": null,
   "id": "8cfdfe3a",
   "metadata": {},
   "outputs": [],
   "source": [
    "for i in soup.find_all('div',class_=\"RiverHeadline-headline RiverHeadline-hasThumbnail\"):\n",
    "    links.append(i.text)"
   ]
  },
  {
   "cell_type": "code",
   "execution_count": null,
   "id": "55cc3ddf",
   "metadata": {},
   "outputs": [],
   "source": [
    "links"
   ]
  },
  {
   "cell_type": "code",
   "execution_count": null,
   "id": "633fa8a7",
   "metadata": {},
   "outputs": [],
   "source": [
    "date=soup.find('div', class_=\"LiveBlogHeader-time\")"
   ]
  },
  {
   "cell_type": "code",
   "execution_count": null,
   "id": "98949cd8",
   "metadata": {},
   "outputs": [],
   "source": [
    "date"
   ]
  },
  {
   "cell_type": "code",
   "execution_count": null,
   "id": "5c2d8218",
   "metadata": {},
   "outputs": [],
   "source": [
    "date.text"
   ]
  },
  {
   "cell_type": "code",
   "execution_count": null,
   "id": "613c38a4",
   "metadata": {},
   "outputs": [],
   "source": [
    "headings=[]"
   ]
  },
  {
   "cell_type": "code",
   "execution_count": null,
   "id": "712b4f28",
   "metadata": {},
   "outputs": [],
   "source": [
    "for i in soup.find_all('h2', class_=\"LiveBlogBody-subtitle\"):\n",
    "    headings.append(i.text)"
   ]
  },
  {
   "cell_type": "code",
   "execution_count": null,
   "id": "853992af",
   "metadata": {},
   "outputs": [],
   "source": [
    "headings"
   ]
  },
  {
   "cell_type": "code",
   "execution_count": null,
   "id": "a1b41637",
   "metadata": {},
   "outputs": [],
   "source": [
    "page=requests.get('https://www.keaipublishing.com/en/journals/artificial-intelligence-in-agriculture/most-downloaded-articles/')"
   ]
  },
  {
   "cell_type": "code",
   "execution_count": null,
   "id": "2e5504e4",
   "metadata": {},
   "outputs": [],
   "source": [
    "page"
   ]
  },
  {
   "cell_type": "code",
   "execution_count": null,
   "id": "b5e82c1c",
   "metadata": {},
   "outputs": [],
   "source": [
    "soup= BeautifulSoup(page.content)"
   ]
  },
  {
   "cell_type": "code",
   "execution_count": null,
   "id": "11ed7f6d",
   "metadata": {},
   "outputs": [],
   "source": [
    "soup"
   ]
  },
  {
   "cell_type": "code",
   "execution_count": null,
   "id": "6eba15cf",
   "metadata": {},
   "outputs": [],
   "source": [
    "title=soup.find('h2',class_=\"h5 article-title\")"
   ]
  },
  {
   "cell_type": "code",
   "execution_count": null,
   "id": "c461bbfa",
   "metadata": {},
   "outputs": [],
   "source": [
    "title"
   ]
  },
  {
   "cell_type": "code",
   "execution_count": null,
   "id": "31044edf",
   "metadata": {},
   "outputs": [],
   "source": [
    "title.text"
   ]
  },
  {
   "cell_type": "code",
   "execution_count": null,
   "id": "1640f31a",
   "metadata": {},
   "outputs": [],
   "source": [
    "titles=[]"
   ]
  },
  {
   "cell_type": "code",
   "execution_count": null,
   "id": "cef313cf",
   "metadata": {},
   "outputs": [],
   "source": [
    "for i in soup.find_all('h2',class_=\"h5 article-title\"):\n",
    "    titles.append(i.text)"
   ]
  },
  {
   "cell_type": "code",
   "execution_count": null,
   "id": "c9a4637f",
   "metadata": {},
   "outputs": [],
   "source": [
    "titles"
   ]
  },
  {
   "cell_type": "code",
   "execution_count": null,
   "id": "4bbea102",
   "metadata": {},
   "outputs": [],
   "source": [
    "authors=[]"
   ]
  },
  {
   "cell_type": "code",
   "execution_count": null,
   "id": "31d055ec",
   "metadata": {},
   "outputs": [],
   "source": [
    "for i in soup.find_all('p', class_=\"article-authors\"):\n",
    "    authors.append(i.text)"
   ]
  },
  {
   "cell_type": "code",
   "execution_count": null,
   "id": "76102a5b",
   "metadata": {},
   "outputs": [],
   "source": [
    "authors"
   ]
  },
  {
   "cell_type": "code",
   "execution_count": null,
   "id": "e8237300",
   "metadata": {},
   "outputs": [],
   "source": [
    "dates=[]"
   ]
  },
  {
   "cell_type": "code",
   "execution_count": null,
   "id": "cc0466ae",
   "metadata": {},
   "outputs": [],
   "source": [
    "for i in soup.find_all('p',class_=\"article-date\"):\n",
    "    dates.append(i.text)"
   ]
  },
  {
   "cell_type": "code",
   "execution_count": null,
   "id": "58e33b6c",
   "metadata": {},
   "outputs": [],
   "source": [
    "dates"
   ]
  },
  {
   "cell_type": "code",
   "execution_count": null,
   "id": "9b63a745",
   "metadata": {},
   "outputs": [],
   "source": []
  },
  {
   "cell_type": "code",
   "execution_count": null,
   "id": "bfc97815",
   "metadata": {},
   "outputs": [],
   "source": []
  }
 ],
 "metadata": {
  "kernelspec": {
   "display_name": "Python 3 (ipykernel)",
   "language": "python",
   "name": "python3"
  },
  "language_info": {
   "codemirror_mode": {
    "name": "ipython",
    "version": 3
   },
   "file_extension": ".py",
   "mimetype": "text/x-python",
   "name": "python",
   "nbconvert_exporter": "python",
   "pygments_lexer": "ipython3",
   "version": "3.11.5"
  }
 },
 "nbformat": 4,
 "nbformat_minor": 5
}
