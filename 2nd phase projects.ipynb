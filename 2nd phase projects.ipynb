{
 "cells": [
  {
   "cell_type": "markdown",
   "id": "a6f0f5bf",
   "metadata": {},
   "source": [
    "1)  Global Power Plant Database"
   ]
  },
  {
   "cell_type": "code",
   "execution_count": 1,
   "id": "c09cba8c",
   "metadata": {},
   "outputs": [],
   "source": [
    "import pandas as pd\n",
    "from sklearn.model_selection import train_test_split\n",
    "from sklearn.linear_model import LogisticRegression, LinearRegression\n",
    "from sklearn.preprocessing import LabelEncoder\n",
    "from sklearn.metrics import accuracy_score, mean_squared_error"
   ]
  },
  {
   "cell_type": "code",
   "execution_count": 2,
   "id": "304c23af",
   "metadata": {},
   "outputs": [],
   "source": [
    "data = pd.read_csv('https://raw.githubusercontent.com/dsrscientist/dataset3/refs/heads/main/global_Power_plant_database.csv')\n"
   ]
  },
  {
   "cell_type": "code",
   "execution_count": 3,
   "id": "cfae7954",
   "metadata": {},
   "outputs": [
    {
     "data": {
      "text/plain": [
       "(908, 25)"
      ]
     },
     "execution_count": 3,
     "metadata": {},
     "output_type": "execute_result"
    }
   ],
   "source": [
    "data.shape"
   ]
  },
  {
   "cell_type": "code",
   "execution_count": 4,
   "id": "b5c32fd7",
   "metadata": {},
   "outputs": [
    {
     "data": {
      "text/html": [
       "<div>\n",
       "<style scoped>\n",
       "    .dataframe tbody tr th:only-of-type {\n",
       "        vertical-align: middle;\n",
       "    }\n",
       "\n",
       "    .dataframe tbody tr th {\n",
       "        vertical-align: top;\n",
       "    }\n",
       "\n",
       "    .dataframe thead th {\n",
       "        text-align: right;\n",
       "    }\n",
       "</style>\n",
       "<table border=\"1\" class=\"dataframe\">\n",
       "  <thead>\n",
       "    <tr style=\"text-align: right;\">\n",
       "      <th></th>\n",
       "      <th>country</th>\n",
       "      <th>country_long</th>\n",
       "      <th>name</th>\n",
       "      <th>gppd_idnr</th>\n",
       "      <th>capacity_mw</th>\n",
       "      <th>latitude</th>\n",
       "      <th>longitude</th>\n",
       "      <th>primary_fuel</th>\n",
       "      <th>other_fuel1</th>\n",
       "      <th>other_fuel2</th>\n",
       "      <th>...</th>\n",
       "      <th>geolocation_source</th>\n",
       "      <th>wepp_id</th>\n",
       "      <th>year_of_capacity_data</th>\n",
       "      <th>generation_gwh_2013</th>\n",
       "      <th>generation_gwh_2014</th>\n",
       "      <th>generation_gwh_2015</th>\n",
       "      <th>generation_gwh_2016</th>\n",
       "      <th>generation_gwh_2017</th>\n",
       "      <th>generation_data_source</th>\n",
       "      <th>estimated_generation_gwh</th>\n",
       "    </tr>\n",
       "  </thead>\n",
       "  <tbody>\n",
       "    <tr>\n",
       "      <th>0</th>\n",
       "      <td>IND</td>\n",
       "      <td>India</td>\n",
       "      <td>ACME Solar Tower</td>\n",
       "      <td>WRI1020239</td>\n",
       "      <td>2.5</td>\n",
       "      <td>28.1839</td>\n",
       "      <td>73.2407</td>\n",
       "      <td>Solar</td>\n",
       "      <td>NaN</td>\n",
       "      <td>NaN</td>\n",
       "      <td>...</td>\n",
       "      <td>National Renewable Energy Laboratory</td>\n",
       "      <td>NaN</td>\n",
       "      <td>NaN</td>\n",
       "      <td>NaN</td>\n",
       "      <td>NaN</td>\n",
       "      <td>NaN</td>\n",
       "      <td>NaN</td>\n",
       "      <td>NaN</td>\n",
       "      <td>NaN</td>\n",
       "      <td>NaN</td>\n",
       "    </tr>\n",
       "    <tr>\n",
       "      <th>1</th>\n",
       "      <td>IND</td>\n",
       "      <td>India</td>\n",
       "      <td>ADITYA CEMENT WORKS</td>\n",
       "      <td>WRI1019881</td>\n",
       "      <td>98.0</td>\n",
       "      <td>24.7663</td>\n",
       "      <td>74.6090</td>\n",
       "      <td>Coal</td>\n",
       "      <td>NaN</td>\n",
       "      <td>NaN</td>\n",
       "      <td>...</td>\n",
       "      <td>WRI</td>\n",
       "      <td>NaN</td>\n",
       "      <td>NaN</td>\n",
       "      <td>NaN</td>\n",
       "      <td>NaN</td>\n",
       "      <td>NaN</td>\n",
       "      <td>NaN</td>\n",
       "      <td>NaN</td>\n",
       "      <td>NaN</td>\n",
       "      <td>NaN</td>\n",
       "    </tr>\n",
       "    <tr>\n",
       "      <th>2</th>\n",
       "      <td>IND</td>\n",
       "      <td>India</td>\n",
       "      <td>AES Saurashtra Windfarms</td>\n",
       "      <td>WRI1026669</td>\n",
       "      <td>39.2</td>\n",
       "      <td>21.9038</td>\n",
       "      <td>69.3732</td>\n",
       "      <td>Wind</td>\n",
       "      <td>NaN</td>\n",
       "      <td>NaN</td>\n",
       "      <td>...</td>\n",
       "      <td>WRI</td>\n",
       "      <td>NaN</td>\n",
       "      <td>NaN</td>\n",
       "      <td>NaN</td>\n",
       "      <td>NaN</td>\n",
       "      <td>NaN</td>\n",
       "      <td>NaN</td>\n",
       "      <td>NaN</td>\n",
       "      <td>NaN</td>\n",
       "      <td>NaN</td>\n",
       "    </tr>\n",
       "    <tr>\n",
       "      <th>3</th>\n",
       "      <td>IND</td>\n",
       "      <td>India</td>\n",
       "      <td>AGARTALA GT</td>\n",
       "      <td>IND0000001</td>\n",
       "      <td>135.0</td>\n",
       "      <td>23.8712</td>\n",
       "      <td>91.3602</td>\n",
       "      <td>Gas</td>\n",
       "      <td>NaN</td>\n",
       "      <td>NaN</td>\n",
       "      <td>...</td>\n",
       "      <td>WRI</td>\n",
       "      <td>NaN</td>\n",
       "      <td>2018.0</td>\n",
       "      <td>631.777928</td>\n",
       "      <td>617.789264</td>\n",
       "      <td>843.747</td>\n",
       "      <td>886.004428</td>\n",
       "      <td>663.774500</td>\n",
       "      <td>Central Electricity Authority</td>\n",
       "      <td>NaN</td>\n",
       "    </tr>\n",
       "    <tr>\n",
       "      <th>4</th>\n",
       "      <td>IND</td>\n",
       "      <td>India</td>\n",
       "      <td>AKALTARA TPP</td>\n",
       "      <td>IND0000002</td>\n",
       "      <td>1800.0</td>\n",
       "      <td>21.9603</td>\n",
       "      <td>82.4091</td>\n",
       "      <td>Coal</td>\n",
       "      <td>Oil</td>\n",
       "      <td>NaN</td>\n",
       "      <td>...</td>\n",
       "      <td>WRI</td>\n",
       "      <td>NaN</td>\n",
       "      <td>2018.0</td>\n",
       "      <td>1668.290000</td>\n",
       "      <td>3035.550000</td>\n",
       "      <td>5916.370</td>\n",
       "      <td>6243.000000</td>\n",
       "      <td>5385.579736</td>\n",
       "      <td>Central Electricity Authority</td>\n",
       "      <td>NaN</td>\n",
       "    </tr>\n",
       "  </tbody>\n",
       "</table>\n",
       "<p>5 rows × 25 columns</p>\n",
       "</div>"
      ],
      "text/plain": [
       "  country country_long                      name   gppd_idnr  capacity_mw  \\\n",
       "0     IND        India          ACME Solar Tower  WRI1020239          2.5   \n",
       "1     IND        India       ADITYA CEMENT WORKS  WRI1019881         98.0   \n",
       "2     IND        India  AES Saurashtra Windfarms  WRI1026669         39.2   \n",
       "3     IND        India               AGARTALA GT  IND0000001        135.0   \n",
       "4     IND        India              AKALTARA TPP  IND0000002       1800.0   \n",
       "\n",
       "   latitude  longitude primary_fuel other_fuel1 other_fuel2  ...  \\\n",
       "0   28.1839    73.2407        Solar         NaN         NaN  ...   \n",
       "1   24.7663    74.6090         Coal         NaN         NaN  ...   \n",
       "2   21.9038    69.3732         Wind         NaN         NaN  ...   \n",
       "3   23.8712    91.3602          Gas         NaN         NaN  ...   \n",
       "4   21.9603    82.4091         Coal         Oil         NaN  ...   \n",
       "\n",
       "                     geolocation_source  wepp_id year_of_capacity_data  \\\n",
       "0  National Renewable Energy Laboratory      NaN                   NaN   \n",
       "1                                   WRI      NaN                   NaN   \n",
       "2                                   WRI      NaN                   NaN   \n",
       "3                                   WRI      NaN                2018.0   \n",
       "4                                   WRI      NaN                2018.0   \n",
       "\n",
       "  generation_gwh_2013 generation_gwh_2014 generation_gwh_2015  \\\n",
       "0                 NaN                 NaN                 NaN   \n",
       "1                 NaN                 NaN                 NaN   \n",
       "2                 NaN                 NaN                 NaN   \n",
       "3          631.777928          617.789264             843.747   \n",
       "4         1668.290000         3035.550000            5916.370   \n",
       "\n",
       "   generation_gwh_2016  generation_gwh_2017         generation_data_source  \\\n",
       "0                  NaN                  NaN                            NaN   \n",
       "1                  NaN                  NaN                            NaN   \n",
       "2                  NaN                  NaN                            NaN   \n",
       "3           886.004428           663.774500  Central Electricity Authority   \n",
       "4          6243.000000          5385.579736  Central Electricity Authority   \n",
       "\n",
       "   estimated_generation_gwh  \n",
       "0                       NaN  \n",
       "1                       NaN  \n",
       "2                       NaN  \n",
       "3                       NaN  \n",
       "4                       NaN  \n",
       "\n",
       "[5 rows x 25 columns]"
      ]
     },
     "execution_count": 4,
     "metadata": {},
     "output_type": "execute_result"
    }
   ],
   "source": [
    "data.head()"
   ]
  },
  {
   "cell_type": "code",
   "execution_count": 5,
   "id": "60f9763f",
   "metadata": {},
   "outputs": [
    {
     "data": {
      "text/html": [
       "<div>\n",
       "<style scoped>\n",
       "    .dataframe tbody tr th:only-of-type {\n",
       "        vertical-align: middle;\n",
       "    }\n",
       "\n",
       "    .dataframe tbody tr th {\n",
       "        vertical-align: top;\n",
       "    }\n",
       "\n",
       "    .dataframe thead th {\n",
       "        text-align: right;\n",
       "    }\n",
       "</style>\n",
       "<table border=\"1\" class=\"dataframe\">\n",
       "  <thead>\n",
       "    <tr style=\"text-align: right;\">\n",
       "      <th></th>\n",
       "      <th>country</th>\n",
       "      <th>country_long</th>\n",
       "      <th>name</th>\n",
       "      <th>gppd_idnr</th>\n",
       "      <th>capacity_mw</th>\n",
       "      <th>latitude</th>\n",
       "      <th>longitude</th>\n",
       "      <th>primary_fuel</th>\n",
       "      <th>other_fuel1</th>\n",
       "      <th>other_fuel2</th>\n",
       "      <th>...</th>\n",
       "      <th>geolocation_source</th>\n",
       "      <th>wepp_id</th>\n",
       "      <th>year_of_capacity_data</th>\n",
       "      <th>generation_gwh_2013</th>\n",
       "      <th>generation_gwh_2014</th>\n",
       "      <th>generation_gwh_2015</th>\n",
       "      <th>generation_gwh_2016</th>\n",
       "      <th>generation_gwh_2017</th>\n",
       "      <th>generation_data_source</th>\n",
       "      <th>estimated_generation_gwh</th>\n",
       "    </tr>\n",
       "  </thead>\n",
       "  <tbody>\n",
       "    <tr>\n",
       "      <th>903</th>\n",
       "      <td>IND</td>\n",
       "      <td>India</td>\n",
       "      <td>YERMARUS TPP</td>\n",
       "      <td>IND0000513</td>\n",
       "      <td>1600.0</td>\n",
       "      <td>16.2949</td>\n",
       "      <td>77.3568</td>\n",
       "      <td>Coal</td>\n",
       "      <td>Oil</td>\n",
       "      <td>NaN</td>\n",
       "      <td>...</td>\n",
       "      <td>WRI</td>\n",
       "      <td>NaN</td>\n",
       "      <td>2018.0</td>\n",
       "      <td>NaN</td>\n",
       "      <td>NaN</td>\n",
       "      <td>0.994875</td>\n",
       "      <td>233.59665</td>\n",
       "      <td>865.4</td>\n",
       "      <td>Central Electricity Authority</td>\n",
       "      <td>NaN</td>\n",
       "    </tr>\n",
       "    <tr>\n",
       "      <th>904</th>\n",
       "      <td>IND</td>\n",
       "      <td>India</td>\n",
       "      <td>Yelesandra Solar Power Plant</td>\n",
       "      <td>WRI1026222</td>\n",
       "      <td>3.0</td>\n",
       "      <td>12.8932</td>\n",
       "      <td>78.1654</td>\n",
       "      <td>Solar</td>\n",
       "      <td>NaN</td>\n",
       "      <td>NaN</td>\n",
       "      <td>...</td>\n",
       "      <td>Industry About</td>\n",
       "      <td>NaN</td>\n",
       "      <td>NaN</td>\n",
       "      <td>NaN</td>\n",
       "      <td>NaN</td>\n",
       "      <td>NaN</td>\n",
       "      <td>NaN</td>\n",
       "      <td>NaN</td>\n",
       "      <td>NaN</td>\n",
       "      <td>NaN</td>\n",
       "    </tr>\n",
       "    <tr>\n",
       "      <th>905</th>\n",
       "      <td>IND</td>\n",
       "      <td>India</td>\n",
       "      <td>Yelisirur wind power project</td>\n",
       "      <td>WRI1026776</td>\n",
       "      <td>25.5</td>\n",
       "      <td>15.2758</td>\n",
       "      <td>75.5811</td>\n",
       "      <td>Wind</td>\n",
       "      <td>NaN</td>\n",
       "      <td>NaN</td>\n",
       "      <td>...</td>\n",
       "      <td>WRI</td>\n",
       "      <td>NaN</td>\n",
       "      <td>NaN</td>\n",
       "      <td>NaN</td>\n",
       "      <td>NaN</td>\n",
       "      <td>NaN</td>\n",
       "      <td>NaN</td>\n",
       "      <td>NaN</td>\n",
       "      <td>NaN</td>\n",
       "      <td>NaN</td>\n",
       "    </tr>\n",
       "    <tr>\n",
       "      <th>906</th>\n",
       "      <td>IND</td>\n",
       "      <td>India</td>\n",
       "      <td>ZAWAR MINES</td>\n",
       "      <td>WRI1019901</td>\n",
       "      <td>80.0</td>\n",
       "      <td>24.3500</td>\n",
       "      <td>73.7477</td>\n",
       "      <td>Coal</td>\n",
       "      <td>NaN</td>\n",
       "      <td>NaN</td>\n",
       "      <td>...</td>\n",
       "      <td>WRI</td>\n",
       "      <td>NaN</td>\n",
       "      <td>NaN</td>\n",
       "      <td>NaN</td>\n",
       "      <td>NaN</td>\n",
       "      <td>NaN</td>\n",
       "      <td>NaN</td>\n",
       "      <td>NaN</td>\n",
       "      <td>NaN</td>\n",
       "      <td>NaN</td>\n",
       "    </tr>\n",
       "    <tr>\n",
       "      <th>907</th>\n",
       "      <td>IND</td>\n",
       "      <td>India</td>\n",
       "      <td>iEnergy Theni Wind Farm</td>\n",
       "      <td>WRI1026761</td>\n",
       "      <td>16.5</td>\n",
       "      <td>9.9344</td>\n",
       "      <td>77.4768</td>\n",
       "      <td>Wind</td>\n",
       "      <td>NaN</td>\n",
       "      <td>NaN</td>\n",
       "      <td>...</td>\n",
       "      <td>WRI</td>\n",
       "      <td>NaN</td>\n",
       "      <td>NaN</td>\n",
       "      <td>NaN</td>\n",
       "      <td>NaN</td>\n",
       "      <td>NaN</td>\n",
       "      <td>NaN</td>\n",
       "      <td>NaN</td>\n",
       "      <td>NaN</td>\n",
       "      <td>NaN</td>\n",
       "    </tr>\n",
       "  </tbody>\n",
       "</table>\n",
       "<p>5 rows × 25 columns</p>\n",
       "</div>"
      ],
      "text/plain": [
       "    country country_long                          name   gppd_idnr  \\\n",
       "903     IND        India                  YERMARUS TPP  IND0000513   \n",
       "904     IND        India  Yelesandra Solar Power Plant  WRI1026222   \n",
       "905     IND        India  Yelisirur wind power project  WRI1026776   \n",
       "906     IND        India                   ZAWAR MINES  WRI1019901   \n",
       "907     IND        India       iEnergy Theni Wind Farm  WRI1026761   \n",
       "\n",
       "     capacity_mw  latitude  longitude primary_fuel other_fuel1 other_fuel2  \\\n",
       "903       1600.0   16.2949    77.3568         Coal         Oil         NaN   \n",
       "904          3.0   12.8932    78.1654        Solar         NaN         NaN   \n",
       "905         25.5   15.2758    75.5811         Wind         NaN         NaN   \n",
       "906         80.0   24.3500    73.7477         Coal         NaN         NaN   \n",
       "907         16.5    9.9344    77.4768         Wind         NaN         NaN   \n",
       "\n",
       "     ...  geolocation_source  wepp_id year_of_capacity_data  \\\n",
       "903  ...                 WRI      NaN                2018.0   \n",
       "904  ...      Industry About      NaN                   NaN   \n",
       "905  ...                 WRI      NaN                   NaN   \n",
       "906  ...                 WRI      NaN                   NaN   \n",
       "907  ...                 WRI      NaN                   NaN   \n",
       "\n",
       "    generation_gwh_2013 generation_gwh_2014 generation_gwh_2015  \\\n",
       "903                 NaN                 NaN            0.994875   \n",
       "904                 NaN                 NaN                 NaN   \n",
       "905                 NaN                 NaN                 NaN   \n",
       "906                 NaN                 NaN                 NaN   \n",
       "907                 NaN                 NaN                 NaN   \n",
       "\n",
       "     generation_gwh_2016  generation_gwh_2017         generation_data_source  \\\n",
       "903            233.59665                865.4  Central Electricity Authority   \n",
       "904                  NaN                  NaN                            NaN   \n",
       "905                  NaN                  NaN                            NaN   \n",
       "906                  NaN                  NaN                            NaN   \n",
       "907                  NaN                  NaN                            NaN   \n",
       "\n",
       "     estimated_generation_gwh  \n",
       "903                       NaN  \n",
       "904                       NaN  \n",
       "905                       NaN  \n",
       "906                       NaN  \n",
       "907                       NaN  \n",
       "\n",
       "[5 rows x 25 columns]"
      ]
     },
     "execution_count": 5,
     "metadata": {},
     "output_type": "execute_result"
    }
   ],
   "source": [
    "data.tail()"
   ]
  },
  {
   "cell_type": "code",
   "execution_count": 6,
   "id": "6fd4f0d0",
   "metadata": {},
   "outputs": [],
   "source": [
    "columns_to_drop = ['country_long', 'name', 'gppd_idnr', 'source', 'url', 'other_fuel1', 'other_fuel2', \n",
    "                   'other_fuel3', 'estimated_generation_gwh', 'wepp_id', 'generation_data_source', \n",
    "                   'generation_gwh_2013', 'generation_gwh_2014', 'generation_gwh_2015', \n",
    "                   'generation_gwh_2016', 'generation_gwh_2017', 'year_of_capacity_data', 'owner', 'geolocation_source']\n",
    "data_cleaned = data.drop(columns=columns_to_drop)"
   ]
  },
  {
   "cell_type": "code",
   "execution_count": 7,
   "id": "454f2677",
   "metadata": {},
   "outputs": [],
   "source": [
    "data_cleaned['latitude'].fillna(data_cleaned['latitude'].mean(), inplace=True)\n",
    "data_cleaned['longitude'].fillna(data_cleaned['longitude'].mean(), inplace=True)"
   ]
  },
  {
   "cell_type": "code",
   "execution_count": 8,
   "id": "658513c9",
   "metadata": {},
   "outputs": [],
   "source": [
    "data_cleaned['commissioning_year'].fillna(data_cleaned['commissioning_year'].median(), inplace=True)"
   ]
  },
  {
   "cell_type": "code",
   "execution_count": 9,
   "id": "562b61cd",
   "metadata": {},
   "outputs": [],
   "source": [
    "data_cleaned = data_cleaned.dropna(subset=['primary_fuel', 'capacity_mw'])"
   ]
  },
  {
   "cell_type": "code",
   "execution_count": 10,
   "id": "48885998",
   "metadata": {},
   "outputs": [],
   "source": [
    "data_cleaned = pd.get_dummies(data_cleaned, columns=['country'])"
   ]
  },
  {
   "cell_type": "code",
   "execution_count": 11,
   "id": "778ede54",
   "metadata": {},
   "outputs": [],
   "source": [
    "label_encoder = LabelEncoder()\n",
    "data_cleaned['primary_fuel'] = label_encoder.fit_transform(data_cleaned['primary_fuel'])"
   ]
  },
  {
   "cell_type": "code",
   "execution_count": 12,
   "id": "80a55db5",
   "metadata": {},
   "outputs": [],
   "source": [
    "X_fuel = data_cleaned.drop(columns=['primary_fuel', 'capacity_mw'])\n",
    "y_fuel = data_cleaned['primary_fuel']"
   ]
  },
  {
   "cell_type": "code",
   "execution_count": 13,
   "id": "ec51b58f",
   "metadata": {},
   "outputs": [],
   "source": [
    "X_capacity = data_cleaned.drop(columns=['capacity_mw', 'primary_fuel'])\n",
    "y_capacity = data_cleaned['capacity_mw']"
   ]
  },
  {
   "cell_type": "code",
   "execution_count": 14,
   "id": "a3b4c54f",
   "metadata": {},
   "outputs": [],
   "source": [
    "X_train_fuel, X_test_fuel, y_train_fuel, y_test_fuel = train_test_split(X_fuel, y_fuel, test_size=0.2, random_state=42)"
   ]
  },
  {
   "cell_type": "code",
   "execution_count": 15,
   "id": "304d465c",
   "metadata": {},
   "outputs": [],
   "source": [
    "X_train_cap, X_test_cap, y_train_cap, y_test_cap = train_test_split(X_capacity, y_capacity, test_size=0.2, random_state=42)"
   ]
  },
  {
   "cell_type": "code",
   "execution_count": 16,
   "id": "9cfb626c",
   "metadata": {},
   "outputs": [],
   "source": [
    "log_reg_fuel = LogisticRegression(max_iter=1000, random_state=42)\n",
    "log_reg_fuel.fit(X_train_fuel, y_train_fuel)\n",
    "y_pred_fuel = log_reg_fuel.predict(X_test_fuel)"
   ]
  },
  {
   "cell_type": "code",
   "execution_count": 17,
   "id": "279b5c4a",
   "metadata": {},
   "outputs": [],
   "source": [
    "linear_reg_capacity = LinearRegression()\n",
    "linear_reg_capacity.fit(X_train_cap, y_train_cap)\n",
    "y_pred_cap = linear_reg_capacity.predict(X_test_cap)"
   ]
  },
  {
   "cell_type": "code",
   "execution_count": 18,
   "id": "4f5f49f6",
   "metadata": {},
   "outputs": [
    {
     "name": "stdout",
     "output_type": "stream",
     "text": [
      "Primary Fuel Prediction Accuracy: 0.46703296703296704\n"
     ]
    }
   ],
   "source": [
    "fuel_accuracy = accuracy_score(y_test_fuel, y_pred_fuel)\n",
    "print(f'Primary Fuel Prediction Accuracy: {fuel_accuracy}')"
   ]
  },
  {
   "cell_type": "code",
   "execution_count": 19,
   "id": "a53efda9",
   "metadata": {},
   "outputs": [
    {
     "name": "stdout",
     "output_type": "stream",
     "text": [
      "Capacity Prediction Mean Squared Error: 270509.48113735195\n"
     ]
    }
   ],
   "source": [
    "capacity_mse = mean_squared_error(y_test_cap, y_pred_cap)\n",
    "print(f'Capacity Prediction Mean Squared Error: {capacity_mse}')"
   ]
  },
  {
   "cell_type": "markdown",
   "id": "8420f6f8",
   "metadata": {},
   "source": [
    "Logistic Regression:\n",
    "\n",
    "This is used to predict the primary_fuel (which is a classification task). After label encoding the primary_fuel, we train the Logistic Regression model and evaluate it using accuracy.\n",
    "Linear Regression:\n",
    "\n",
    "This model is used to predict the capacity_mw (which is a continuous numeric value). The Linear Regression model is trained and evaluated using the mean squared error (MSE)."
   ]
  },
  {
   "cell_type": "markdown",
   "id": "1fe0b75b",
   "metadata": {},
   "source": [
    "Key Points:\n",
    "The Logistic Regression model will help predict the type of fuel used by a power plant (classification).\n",
    "The Linear Regression model will predict the capacity of the power plant in megawatts (MW).\n",
    "The dataset is cleaned by dropping irrelevant columns, filling missing values, and encoding categorical features."
   ]
  },
  {
   "cell_type": "markdown",
   "id": "fa721226",
   "metadata": {},
   "source": [
    "Primary Fuel Prediction (Classification) Findings:\n",
    "Accuracy: The logistic regression model provides an overall accuracy score (printed in the code) which indicates how well the model predicts the fuel type of the power plants.\n",
    "Model Performance: If the accuracy is high (e.g., >80%), the model can reliably predict the fuel type based on the given features. However, if the accuracy is low, it could indicate that the model requires more features or that there is too much noise or missing data.\n",
    "Feature Importance: Logistic regression assigns weights to each feature (latitude, longitude, commissioning year, etc.). A deeper analysis could reveal which features (e.g., geographical location) are more influential in determining the primary fuel type.\n",
    "Challenges:\n",
    "If the accuracy is low, potential reasons could include missing or irrelevant features, imbalance in the classes (e.g., far more coal plants than solar plants), or the need for more complex models (e.g., Decision Trees, Random Forest).\n",
    "\n",
    "Capacity Prediction (Regression) Findings:\n",
    " \n",
    "MSE: The Mean Squared Error value (printed in the code) gives insight into the model’s performance. A lower MSE indicates that the model is making more accurate predictions about power plant capacity. If the MSE is high, it indicates a significant gap between actual and predicted capacity.\n",
    "Prediction Range: The linear regression model should be able to predict the capacity of power plants with reasonable accuracy for most plants. However, outliers (very large or very small power plants) could be more difficult to predict.\n",
    "Feature Importance: In Linear Regression, coefficients indicate the weight or influence of each feature on the target variable (capacity_mw). A deeper analysis could show whether the location or commissioning year plays a larger role in determining plant capacity.\n",
    "Challenges:\n",
    "If the MSE is high, it could indicate that the relationship between features and capacity is non-linear, and a more sophisticated model like Random Forest Regression or Support Vector Regression might perform better.\n",
    "If the variance of capacity_mw is large, the model may struggle with predicting power plants that have very high or very low capacity accurately."
   ]
  },
  {
   "cell_type": "markdown",
   "id": "2eff6d66",
   "metadata": {},
   "source": [
    "2) Global Power Plant Database"
   ]
  },
  {
   "cell_type": "code",
   "execution_count": 1,
   "id": "675ae4ad",
   "metadata": {},
   "outputs": [],
   "source": [
    "import pandas as pd\n",
    "from sklearn.model_selection import train_test_split\n",
    "from sklearn.linear_model import LinearRegression\n",
    "from sklearn.metrics import mean_squared_error\n",
    "import numpy as np"
   ]
  },
  {
   "cell_type": "code",
   "execution_count": 2,
   "id": "758938cf",
   "metadata": {},
   "outputs": [],
   "source": [
    "data = pd.read_csv('https://raw.githubusercontent.com/dsrscientist/Dataset2/refs/heads/main/temperature.csv')"
   ]
  },
  {
   "cell_type": "code",
   "execution_count": 15,
   "id": "d3e951bc",
   "metadata": {},
   "outputs": [
    {
     "data": {
      "text/plain": [
       "(7752, 25)"
      ]
     },
     "execution_count": 15,
     "metadata": {},
     "output_type": "execute_result"
    }
   ],
   "source": [
    "data.shape"
   ]
  },
  {
   "cell_type": "code",
   "execution_count": 16,
   "id": "3bbe0065",
   "metadata": {},
   "outputs": [
    {
     "data": {
      "text/html": [
       "<div>\n",
       "<style scoped>\n",
       "    .dataframe tbody tr th:only-of-type {\n",
       "        vertical-align: middle;\n",
       "    }\n",
       "\n",
       "    .dataframe tbody tr th {\n",
       "        vertical-align: top;\n",
       "    }\n",
       "\n",
       "    .dataframe thead th {\n",
       "        text-align: right;\n",
       "    }\n",
       "</style>\n",
       "<table border=\"1\" class=\"dataframe\">\n",
       "  <thead>\n",
       "    <tr style=\"text-align: right;\">\n",
       "      <th></th>\n",
       "      <th>station</th>\n",
       "      <th>Date</th>\n",
       "      <th>Present_Tmax</th>\n",
       "      <th>Present_Tmin</th>\n",
       "      <th>LDAPS_RHmin</th>\n",
       "      <th>LDAPS_RHmax</th>\n",
       "      <th>LDAPS_Tmax_lapse</th>\n",
       "      <th>LDAPS_Tmin_lapse</th>\n",
       "      <th>LDAPS_WS</th>\n",
       "      <th>LDAPS_LH</th>\n",
       "      <th>...</th>\n",
       "      <th>LDAPS_PPT2</th>\n",
       "      <th>LDAPS_PPT3</th>\n",
       "      <th>LDAPS_PPT4</th>\n",
       "      <th>lat</th>\n",
       "      <th>lon</th>\n",
       "      <th>DEM</th>\n",
       "      <th>Slope</th>\n",
       "      <th>Solar radiation</th>\n",
       "      <th>Next_Tmax</th>\n",
       "      <th>Next_Tmin</th>\n",
       "    </tr>\n",
       "  </thead>\n",
       "  <tbody>\n",
       "    <tr>\n",
       "      <th>0</th>\n",
       "      <td>1.0</td>\n",
       "      <td>30-06-2013</td>\n",
       "      <td>28.7</td>\n",
       "      <td>21.4</td>\n",
       "      <td>58.255688</td>\n",
       "      <td>91.116364</td>\n",
       "      <td>28.074101</td>\n",
       "      <td>23.006936</td>\n",
       "      <td>6.818887</td>\n",
       "      <td>69.451805</td>\n",
       "      <td>...</td>\n",
       "      <td>0.0</td>\n",
       "      <td>0.0</td>\n",
       "      <td>0.0</td>\n",
       "      <td>37.6046</td>\n",
       "      <td>126.991</td>\n",
       "      <td>212.3350</td>\n",
       "      <td>2.7850</td>\n",
       "      <td>5992.895996</td>\n",
       "      <td>29.1</td>\n",
       "      <td>21.2</td>\n",
       "    </tr>\n",
       "    <tr>\n",
       "      <th>1</th>\n",
       "      <td>2.0</td>\n",
       "      <td>30-06-2013</td>\n",
       "      <td>31.9</td>\n",
       "      <td>21.6</td>\n",
       "      <td>52.263397</td>\n",
       "      <td>90.604721</td>\n",
       "      <td>29.850689</td>\n",
       "      <td>24.035009</td>\n",
       "      <td>5.691890</td>\n",
       "      <td>51.937448</td>\n",
       "      <td>...</td>\n",
       "      <td>0.0</td>\n",
       "      <td>0.0</td>\n",
       "      <td>0.0</td>\n",
       "      <td>37.6046</td>\n",
       "      <td>127.032</td>\n",
       "      <td>44.7624</td>\n",
       "      <td>0.5141</td>\n",
       "      <td>5869.312500</td>\n",
       "      <td>30.5</td>\n",
       "      <td>22.5</td>\n",
       "    </tr>\n",
       "    <tr>\n",
       "      <th>2</th>\n",
       "      <td>3.0</td>\n",
       "      <td>30-06-2013</td>\n",
       "      <td>31.6</td>\n",
       "      <td>23.3</td>\n",
       "      <td>48.690479</td>\n",
       "      <td>83.973587</td>\n",
       "      <td>30.091292</td>\n",
       "      <td>24.565633</td>\n",
       "      <td>6.138224</td>\n",
       "      <td>20.573050</td>\n",
       "      <td>...</td>\n",
       "      <td>0.0</td>\n",
       "      <td>0.0</td>\n",
       "      <td>0.0</td>\n",
       "      <td>37.5776</td>\n",
       "      <td>127.058</td>\n",
       "      <td>33.3068</td>\n",
       "      <td>0.2661</td>\n",
       "      <td>5863.555664</td>\n",
       "      <td>31.1</td>\n",
       "      <td>23.9</td>\n",
       "    </tr>\n",
       "    <tr>\n",
       "      <th>3</th>\n",
       "      <td>4.0</td>\n",
       "      <td>30-06-2013</td>\n",
       "      <td>32.0</td>\n",
       "      <td>23.4</td>\n",
       "      <td>58.239788</td>\n",
       "      <td>96.483688</td>\n",
       "      <td>29.704629</td>\n",
       "      <td>23.326177</td>\n",
       "      <td>5.650050</td>\n",
       "      <td>65.727144</td>\n",
       "      <td>...</td>\n",
       "      <td>0.0</td>\n",
       "      <td>0.0</td>\n",
       "      <td>0.0</td>\n",
       "      <td>37.6450</td>\n",
       "      <td>127.022</td>\n",
       "      <td>45.7160</td>\n",
       "      <td>2.5348</td>\n",
       "      <td>5856.964844</td>\n",
       "      <td>31.7</td>\n",
       "      <td>24.3</td>\n",
       "    </tr>\n",
       "    <tr>\n",
       "      <th>4</th>\n",
       "      <td>5.0</td>\n",
       "      <td>30-06-2013</td>\n",
       "      <td>31.4</td>\n",
       "      <td>21.9</td>\n",
       "      <td>56.174095</td>\n",
       "      <td>90.155128</td>\n",
       "      <td>29.113934</td>\n",
       "      <td>23.486480</td>\n",
       "      <td>5.735004</td>\n",
       "      <td>107.965535</td>\n",
       "      <td>...</td>\n",
       "      <td>0.0</td>\n",
       "      <td>0.0</td>\n",
       "      <td>0.0</td>\n",
       "      <td>37.5507</td>\n",
       "      <td>127.135</td>\n",
       "      <td>35.0380</td>\n",
       "      <td>0.5055</td>\n",
       "      <td>5859.552246</td>\n",
       "      <td>31.2</td>\n",
       "      <td>22.5</td>\n",
       "    </tr>\n",
       "  </tbody>\n",
       "</table>\n",
       "<p>5 rows × 25 columns</p>\n",
       "</div>"
      ],
      "text/plain": [
       "   station        Date  Present_Tmax  Present_Tmin  LDAPS_RHmin  LDAPS_RHmax  \\\n",
       "0      1.0  30-06-2013          28.7          21.4    58.255688    91.116364   \n",
       "1      2.0  30-06-2013          31.9          21.6    52.263397    90.604721   \n",
       "2      3.0  30-06-2013          31.6          23.3    48.690479    83.973587   \n",
       "3      4.0  30-06-2013          32.0          23.4    58.239788    96.483688   \n",
       "4      5.0  30-06-2013          31.4          21.9    56.174095    90.155128   \n",
       "\n",
       "   LDAPS_Tmax_lapse  LDAPS_Tmin_lapse  LDAPS_WS    LDAPS_LH  ...  LDAPS_PPT2  \\\n",
       "0         28.074101         23.006936  6.818887   69.451805  ...         0.0   \n",
       "1         29.850689         24.035009  5.691890   51.937448  ...         0.0   \n",
       "2         30.091292         24.565633  6.138224   20.573050  ...         0.0   \n",
       "3         29.704629         23.326177  5.650050   65.727144  ...         0.0   \n",
       "4         29.113934         23.486480  5.735004  107.965535  ...         0.0   \n",
       "\n",
       "   LDAPS_PPT3  LDAPS_PPT4      lat      lon       DEM   Slope  \\\n",
       "0         0.0         0.0  37.6046  126.991  212.3350  2.7850   \n",
       "1         0.0         0.0  37.6046  127.032   44.7624  0.5141   \n",
       "2         0.0         0.0  37.5776  127.058   33.3068  0.2661   \n",
       "3         0.0         0.0  37.6450  127.022   45.7160  2.5348   \n",
       "4         0.0         0.0  37.5507  127.135   35.0380  0.5055   \n",
       "\n",
       "   Solar radiation  Next_Tmax  Next_Tmin  \n",
       "0      5992.895996       29.1       21.2  \n",
       "1      5869.312500       30.5       22.5  \n",
       "2      5863.555664       31.1       23.9  \n",
       "3      5856.964844       31.7       24.3  \n",
       "4      5859.552246       31.2       22.5  \n",
       "\n",
       "[5 rows x 25 columns]"
      ]
     },
     "execution_count": 16,
     "metadata": {},
     "output_type": "execute_result"
    }
   ],
   "source": [
    "data.head()"
   ]
  },
  {
   "cell_type": "code",
   "execution_count": 17,
   "id": "4ad195a9",
   "metadata": {},
   "outputs": [
    {
     "data": {
      "text/html": [
       "<div>\n",
       "<style scoped>\n",
       "    .dataframe tbody tr th:only-of-type {\n",
       "        vertical-align: middle;\n",
       "    }\n",
       "\n",
       "    .dataframe tbody tr th {\n",
       "        vertical-align: top;\n",
       "    }\n",
       "\n",
       "    .dataframe thead th {\n",
       "        text-align: right;\n",
       "    }\n",
       "</style>\n",
       "<table border=\"1\" class=\"dataframe\">\n",
       "  <thead>\n",
       "    <tr style=\"text-align: right;\">\n",
       "      <th></th>\n",
       "      <th>station</th>\n",
       "      <th>Date</th>\n",
       "      <th>Present_Tmax</th>\n",
       "      <th>Present_Tmin</th>\n",
       "      <th>LDAPS_RHmin</th>\n",
       "      <th>LDAPS_RHmax</th>\n",
       "      <th>LDAPS_Tmax_lapse</th>\n",
       "      <th>LDAPS_Tmin_lapse</th>\n",
       "      <th>LDAPS_WS</th>\n",
       "      <th>LDAPS_LH</th>\n",
       "      <th>...</th>\n",
       "      <th>LDAPS_PPT2</th>\n",
       "      <th>LDAPS_PPT3</th>\n",
       "      <th>LDAPS_PPT4</th>\n",
       "      <th>lat</th>\n",
       "      <th>lon</th>\n",
       "      <th>DEM</th>\n",
       "      <th>Slope</th>\n",
       "      <th>Solar radiation</th>\n",
       "      <th>Next_Tmax</th>\n",
       "      <th>Next_Tmin</th>\n",
       "    </tr>\n",
       "  </thead>\n",
       "  <tbody>\n",
       "    <tr>\n",
       "      <th>7747</th>\n",
       "      <td>23.0</td>\n",
       "      <td>30-08-2017</td>\n",
       "      <td>23.3</td>\n",
       "      <td>17.1</td>\n",
       "      <td>26.741310</td>\n",
       "      <td>78.869858</td>\n",
       "      <td>26.352081</td>\n",
       "      <td>18.775678</td>\n",
       "      <td>6.148918</td>\n",
       "      <td>72.058294</td>\n",
       "      <td>...</td>\n",
       "      <td>0.000000</td>\n",
       "      <td>0.000000</td>\n",
       "      <td>0.000000</td>\n",
       "      <td>37.5372</td>\n",
       "      <td>126.891</td>\n",
       "      <td>15.5876</td>\n",
       "      <td>0.155400</td>\n",
       "      <td>4443.313965</td>\n",
       "      <td>28.3</td>\n",
       "      <td>18.1</td>\n",
       "    </tr>\n",
       "    <tr>\n",
       "      <th>7748</th>\n",
       "      <td>24.0</td>\n",
       "      <td>30-08-2017</td>\n",
       "      <td>23.3</td>\n",
       "      <td>17.7</td>\n",
       "      <td>24.040634</td>\n",
       "      <td>77.294975</td>\n",
       "      <td>27.010193</td>\n",
       "      <td>18.733519</td>\n",
       "      <td>6.542819</td>\n",
       "      <td>47.241457</td>\n",
       "      <td>...</td>\n",
       "      <td>0.000000</td>\n",
       "      <td>0.000000</td>\n",
       "      <td>0.000000</td>\n",
       "      <td>37.5237</td>\n",
       "      <td>126.909</td>\n",
       "      <td>17.2956</td>\n",
       "      <td>0.222300</td>\n",
       "      <td>4438.373535</td>\n",
       "      <td>28.6</td>\n",
       "      <td>18.8</td>\n",
       "    </tr>\n",
       "    <tr>\n",
       "      <th>7749</th>\n",
       "      <td>25.0</td>\n",
       "      <td>30-08-2017</td>\n",
       "      <td>23.2</td>\n",
       "      <td>17.4</td>\n",
       "      <td>22.933014</td>\n",
       "      <td>77.243744</td>\n",
       "      <td>27.939516</td>\n",
       "      <td>18.522965</td>\n",
       "      <td>7.289264</td>\n",
       "      <td>9.090034</td>\n",
       "      <td>...</td>\n",
       "      <td>0.000000</td>\n",
       "      <td>0.000000</td>\n",
       "      <td>0.000000</td>\n",
       "      <td>37.5237</td>\n",
       "      <td>126.970</td>\n",
       "      <td>19.5844</td>\n",
       "      <td>0.271300</td>\n",
       "      <td>4451.345215</td>\n",
       "      <td>27.8</td>\n",
       "      <td>17.4</td>\n",
       "    </tr>\n",
       "    <tr>\n",
       "      <th>7750</th>\n",
       "      <td>25.0</td>\n",
       "      <td>30-08-2017</td>\n",
       "      <td>20.0</td>\n",
       "      <td>11.3</td>\n",
       "      <td>19.794666</td>\n",
       "      <td>58.936283</td>\n",
       "      <td>17.624954</td>\n",
       "      <td>14.272646</td>\n",
       "      <td>2.882580</td>\n",
       "      <td>-13.603212</td>\n",
       "      <td>...</td>\n",
       "      <td>0.000000</td>\n",
       "      <td>0.000000</td>\n",
       "      <td>0.000000</td>\n",
       "      <td>37.4562</td>\n",
       "      <td>126.826</td>\n",
       "      <td>12.3700</td>\n",
       "      <td>0.098475</td>\n",
       "      <td>4329.520508</td>\n",
       "      <td>17.4</td>\n",
       "      <td>11.3</td>\n",
       "    </tr>\n",
       "    <tr>\n",
       "      <th>7751</th>\n",
       "      <td>25.0</td>\n",
       "      <td>30-08-2017</td>\n",
       "      <td>37.6</td>\n",
       "      <td>29.9</td>\n",
       "      <td>98.524734</td>\n",
       "      <td>100.000153</td>\n",
       "      <td>38.542255</td>\n",
       "      <td>29.619342</td>\n",
       "      <td>21.857621</td>\n",
       "      <td>213.414006</td>\n",
       "      <td>...</td>\n",
       "      <td>21.621661</td>\n",
       "      <td>15.841235</td>\n",
       "      <td>16.655469</td>\n",
       "      <td>37.6450</td>\n",
       "      <td>127.135</td>\n",
       "      <td>212.3350</td>\n",
       "      <td>5.178230</td>\n",
       "      <td>5992.895996</td>\n",
       "      <td>38.9</td>\n",
       "      <td>29.8</td>\n",
       "    </tr>\n",
       "  </tbody>\n",
       "</table>\n",
       "<p>5 rows × 25 columns</p>\n",
       "</div>"
      ],
      "text/plain": [
       "      station        Date  Present_Tmax  Present_Tmin  LDAPS_RHmin  \\\n",
       "7747     23.0  30-08-2017          23.3          17.1    26.741310   \n",
       "7748     24.0  30-08-2017          23.3          17.7    24.040634   \n",
       "7749     25.0  30-08-2017          23.2          17.4    22.933014   \n",
       "7750     25.0  30-08-2017          20.0          11.3    19.794666   \n",
       "7751     25.0  30-08-2017          37.6          29.9    98.524734   \n",
       "\n",
       "      LDAPS_RHmax  LDAPS_Tmax_lapse  LDAPS_Tmin_lapse   LDAPS_WS    LDAPS_LH  \\\n",
       "7747    78.869858         26.352081         18.775678   6.148918   72.058294   \n",
       "7748    77.294975         27.010193         18.733519   6.542819   47.241457   \n",
       "7749    77.243744         27.939516         18.522965   7.289264    9.090034   \n",
       "7750    58.936283         17.624954         14.272646   2.882580  -13.603212   \n",
       "7751   100.000153         38.542255         29.619342  21.857621  213.414006   \n",
       "\n",
       "      ...  LDAPS_PPT2  LDAPS_PPT3  LDAPS_PPT4      lat      lon       DEM  \\\n",
       "7747  ...    0.000000    0.000000    0.000000  37.5372  126.891   15.5876   \n",
       "7748  ...    0.000000    0.000000    0.000000  37.5237  126.909   17.2956   \n",
       "7749  ...    0.000000    0.000000    0.000000  37.5237  126.970   19.5844   \n",
       "7750  ...    0.000000    0.000000    0.000000  37.4562  126.826   12.3700   \n",
       "7751  ...   21.621661   15.841235   16.655469  37.6450  127.135  212.3350   \n",
       "\n",
       "         Slope  Solar radiation  Next_Tmax  Next_Tmin  \n",
       "7747  0.155400      4443.313965       28.3       18.1  \n",
       "7748  0.222300      4438.373535       28.6       18.8  \n",
       "7749  0.271300      4451.345215       27.8       17.4  \n",
       "7750  0.098475      4329.520508       17.4       11.3  \n",
       "7751  5.178230      5992.895996       38.9       29.8  \n",
       "\n",
       "[5 rows x 25 columns]"
      ]
     },
     "execution_count": 17,
     "metadata": {},
     "output_type": "execute_result"
    }
   ],
   "source": [
    "data.tail()"
   ]
  },
  {
   "cell_type": "code",
   "execution_count": 19,
   "id": "7e184d9d",
   "metadata": {},
   "outputs": [
    {
     "data": {
      "text/plain": [
       "Index(['station', 'Date', 'Present_Tmax', 'Present_Tmin', 'LDAPS_RHmin',\n",
       "       'LDAPS_RHmax', 'LDAPS_Tmax_lapse', 'LDAPS_Tmin_lapse', 'LDAPS_WS',\n",
       "       'LDAPS_LH', 'LDAPS_CC1', 'LDAPS_CC2', 'LDAPS_CC3', 'LDAPS_CC4',\n",
       "       'LDAPS_PPT1', 'LDAPS_PPT2', 'LDAPS_PPT3', 'LDAPS_PPT4', 'lat', 'lon',\n",
       "       'DEM', 'Slope', 'Solar radiation', 'Next_Tmax', 'Next_Tmin'],\n",
       "      dtype='object')"
      ]
     },
     "execution_count": 19,
     "metadata": {},
     "output_type": "execute_result"
    }
   ],
   "source": [
    "data.columns"
   ]
  },
  {
   "cell_type": "code",
   "execution_count": 22,
   "id": "303ee0f6",
   "metadata": {},
   "outputs": [
    {
     "data": {
      "text/plain": [
       "station             float64\n",
       "Date                 object\n",
       "Present_Tmax        float64\n",
       "Present_Tmin        float64\n",
       "LDAPS_RHmin         float64\n",
       "LDAPS_RHmax         float64\n",
       "LDAPS_Tmax_lapse    float64\n",
       "LDAPS_Tmin_lapse    float64\n",
       "LDAPS_WS            float64\n",
       "LDAPS_LH            float64\n",
       "LDAPS_CC1           float64\n",
       "LDAPS_CC2           float64\n",
       "LDAPS_CC3           float64\n",
       "LDAPS_CC4           float64\n",
       "LDAPS_PPT1          float64\n",
       "LDAPS_PPT2          float64\n",
       "LDAPS_PPT3          float64\n",
       "LDAPS_PPT4          float64\n",
       "lat                 float64\n",
       "lon                 float64\n",
       "DEM                 float64\n",
       "Slope               float64\n",
       "Solar radiation     float64\n",
       "Next_Tmax           float64\n",
       "Next_Tmin           float64\n",
       "dtype: object"
      ]
     },
     "execution_count": 22,
     "metadata": {},
     "output_type": "execute_result"
    }
   ],
   "source": [
    "data.dtypes"
   ]
  },
  {
   "cell_type": "code",
   "execution_count": 31,
   "id": "37d0302a",
   "metadata": {},
   "outputs": [
    {
     "name": "stdout",
     "output_type": "stream",
     "text": [
      "\n",
      "Non-numeric entries in 'Present_Tmax':\n",
      "Empty DataFrame\n",
      "Columns: [station, Date, Present_Tmax, Present_Tmin, LDAPS_RHmin, LDAPS_RHmax, LDAPS_Tmax_lapse, LDAPS_Tmin_lapse, LDAPS_WS, LDAPS_LH, LDAPS_CC1, LDAPS_CC2, LDAPS_CC3, LDAPS_CC4, LDAPS_PPT1, LDAPS_PPT2, LDAPS_PPT3, LDAPS_PPT4, lat, lon, DEM, Slope, Solar radiation, Next_Tmax, Next_Tmin]\n",
      "Index: []\n",
      "\n",
      "[0 rows x 25 columns]\n",
      "\n",
      "Non-numeric entries in 'Present_Tmin':\n",
      "Empty DataFrame\n",
      "Columns: [station, Date, Present_Tmax, Present_Tmin, LDAPS_RHmin, LDAPS_RHmax, LDAPS_Tmax_lapse, LDAPS_Tmin_lapse, LDAPS_WS, LDAPS_LH, LDAPS_CC1, LDAPS_CC2, LDAPS_CC3, LDAPS_CC4, LDAPS_PPT1, LDAPS_PPT2, LDAPS_PPT3, LDAPS_PPT4, lat, lon, DEM, Slope, Solar radiation, Next_Tmax, Next_Tmin]\n",
      "Index: []\n",
      "\n",
      "[0 rows x 25 columns]\n"
     ]
    }
   ],
   "source": [
    "print(\"\\nNon-numeric entries in 'Present_Tmax':\")\n",
    "print(data[~data['Present_Tmax'].apply(lambda x: isinstance(x, (int, float)))])\n",
    "print(\"\\nNon-numeric entries in 'Present_Tmin':\")\n",
    "print(data[~data['Present_Tmin'].apply(lambda x: isinstance(x, (int, float)))])"
   ]
  },
  {
   "cell_type": "code",
   "execution_count": 32,
   "id": "32173f2a",
   "metadata": {},
   "outputs": [],
   "source": [
    "data['Present_Tmin'] = pd.to_numeric(data['Present_Tmin'], errors='coerce')  \n",
    "data['Present_Tmax'] = pd.to_numeric(data['Present_Tmax'], errors='coerce')"
   ]
  },
  {
   "cell_type": "code",
   "execution_count": 34,
   "id": "9f01ef43",
   "metadata": {},
   "outputs": [],
   "source": [
    "data['Present_Tmin_lag1'] = data['Present_Tmin'].shift(1)  \n",
    "data['Present_Tmax_lag1'] = data['Present_Tmax'].shift(1) "
   ]
  },
  {
   "cell_type": "code",
   "execution_count": 35,
   "id": "26a90d81",
   "metadata": {},
   "outputs": [],
   "source": [
    "data.dropna(inplace=True)"
   ]
  },
  {
   "cell_type": "code",
   "execution_count": 36,
   "id": "916aa868",
   "metadata": {},
   "outputs": [],
   "source": [
    "X_Present_Tmin = data[['Present_Tmin_lag1', 'Present_Tmax_lag1']]\n",
    "y_Present_Tmin = data['Present_Tmin'] "
   ]
  },
  {
   "cell_type": "code",
   "execution_count": 37,
   "id": "011468b7",
   "metadata": {},
   "outputs": [],
   "source": [
    "X_Present_Tmax = data[['Present_Tmin_lag1', 'Present_Tmax_lag1']]  \n",
    "y_Present_Tmax = data['Present_Tmax'] "
   ]
  },
  {
   "cell_type": "code",
   "execution_count": 39,
   "id": "1f26102a",
   "metadata": {},
   "outputs": [],
   "source": [
    "X_train_min, X_test_min, y_train_min, y_test_min = train_test_split(X_Present_Tmin, y_Present_Tmin, test_size=0.2, random_state=42)\n",
    "X_train_max, X_test_max, y_train_max, y_test_max = train_test_split(X_Present_Tmax, y_Present_Tmax, test_size=0.2, random_state=42)"
   ]
  },
  {
   "cell_type": "code",
   "execution_count": 40,
   "id": "89ff4856",
   "metadata": {},
   "outputs": [
    {
     "data": {
      "text/html": [
       "<style>#sk-container-id-1 {color: black;}#sk-container-id-1 pre{padding: 0;}#sk-container-id-1 div.sk-toggleable {background-color: white;}#sk-container-id-1 label.sk-toggleable__label {cursor: pointer;display: block;width: 100%;margin-bottom: 0;padding: 0.3em;box-sizing: border-box;text-align: center;}#sk-container-id-1 label.sk-toggleable__label-arrow:before {content: \"▸\";float: left;margin-right: 0.25em;color: #696969;}#sk-container-id-1 label.sk-toggleable__label-arrow:hover:before {color: black;}#sk-container-id-1 div.sk-estimator:hover label.sk-toggleable__label-arrow:before {color: black;}#sk-container-id-1 div.sk-toggleable__content {max-height: 0;max-width: 0;overflow: hidden;text-align: left;background-color: #f0f8ff;}#sk-container-id-1 div.sk-toggleable__content pre {margin: 0.2em;color: black;border-radius: 0.25em;background-color: #f0f8ff;}#sk-container-id-1 input.sk-toggleable__control:checked~div.sk-toggleable__content {max-height: 200px;max-width: 100%;overflow: auto;}#sk-container-id-1 input.sk-toggleable__control:checked~label.sk-toggleable__label-arrow:before {content: \"▾\";}#sk-container-id-1 div.sk-estimator input.sk-toggleable__control:checked~label.sk-toggleable__label {background-color: #d4ebff;}#sk-container-id-1 div.sk-label input.sk-toggleable__control:checked~label.sk-toggleable__label {background-color: #d4ebff;}#sk-container-id-1 input.sk-hidden--visually {border: 0;clip: rect(1px 1px 1px 1px);clip: rect(1px, 1px, 1px, 1px);height: 1px;margin: -1px;overflow: hidden;padding: 0;position: absolute;width: 1px;}#sk-container-id-1 div.sk-estimator {font-family: monospace;background-color: #f0f8ff;border: 1px dotted black;border-radius: 0.25em;box-sizing: border-box;margin-bottom: 0.5em;}#sk-container-id-1 div.sk-estimator:hover {background-color: #d4ebff;}#sk-container-id-1 div.sk-parallel-item::after {content: \"\";width: 100%;border-bottom: 1px solid gray;flex-grow: 1;}#sk-container-id-1 div.sk-label:hover label.sk-toggleable__label {background-color: #d4ebff;}#sk-container-id-1 div.sk-serial::before {content: \"\";position: absolute;border-left: 1px solid gray;box-sizing: border-box;top: 0;bottom: 0;left: 50%;z-index: 0;}#sk-container-id-1 div.sk-serial {display: flex;flex-direction: column;align-items: center;background-color: white;padding-right: 0.2em;padding-left: 0.2em;position: relative;}#sk-container-id-1 div.sk-item {position: relative;z-index: 1;}#sk-container-id-1 div.sk-parallel {display: flex;align-items: stretch;justify-content: center;background-color: white;position: relative;}#sk-container-id-1 div.sk-item::before, #sk-container-id-1 div.sk-parallel-item::before {content: \"\";position: absolute;border-left: 1px solid gray;box-sizing: border-box;top: 0;bottom: 0;left: 50%;z-index: -1;}#sk-container-id-1 div.sk-parallel-item {display: flex;flex-direction: column;z-index: 1;position: relative;background-color: white;}#sk-container-id-1 div.sk-parallel-item:first-child::after {align-self: flex-end;width: 50%;}#sk-container-id-1 div.sk-parallel-item:last-child::after {align-self: flex-start;width: 50%;}#sk-container-id-1 div.sk-parallel-item:only-child::after {width: 0;}#sk-container-id-1 div.sk-dashed-wrapped {border: 1px dashed gray;margin: 0 0.4em 0.5em 0.4em;box-sizing: border-box;padding-bottom: 0.4em;background-color: white;}#sk-container-id-1 div.sk-label label {font-family: monospace;font-weight: bold;display: inline-block;line-height: 1.2em;}#sk-container-id-1 div.sk-label-container {text-align: center;}#sk-container-id-1 div.sk-container {/* jupyter's `normalize.less` sets `[hidden] { display: none; }` but bootstrap.min.css set `[hidden] { display: none !important; }` so we also need the `!important` here to be able to override the default hidden behavior on the sphinx rendered scikit-learn.org. See: https://github.com/scikit-learn/scikit-learn/issues/21755 */display: inline-block !important;position: relative;}#sk-container-id-1 div.sk-text-repr-fallback {display: none;}</style><div id=\"sk-container-id-1\" class=\"sk-top-container\"><div class=\"sk-text-repr-fallback\"><pre>LinearRegression()</pre><b>In a Jupyter environment, please rerun this cell to show the HTML representation or trust the notebook. <br />On GitHub, the HTML representation is unable to render, please try loading this page with nbviewer.org.</b></div><div class=\"sk-container\" hidden><div class=\"sk-item\"><div class=\"sk-estimator sk-toggleable\"><input class=\"sk-toggleable__control sk-hidden--visually\" id=\"sk-estimator-id-1\" type=\"checkbox\" checked><label for=\"sk-estimator-id-1\" class=\"sk-toggleable__label sk-toggleable__label-arrow\">LinearRegression</label><div class=\"sk-toggleable__content\"><pre>LinearRegression()</pre></div></div></div></div></div>"
      ],
      "text/plain": [
       "LinearRegression()"
      ]
     },
     "execution_count": 40,
     "metadata": {},
     "output_type": "execute_result"
    }
   ],
   "source": [
    "model_Present_Tmax = LinearRegression()\n",
    "model_Present_Tmax.fit(X_train_min, y_train_min)"
   ]
  },
  {
   "cell_type": "code",
   "execution_count": 41,
   "id": "136d1f6e",
   "metadata": {},
   "outputs": [
    {
     "data": {
      "text/html": [
       "<style>#sk-container-id-2 {color: black;}#sk-container-id-2 pre{padding: 0;}#sk-container-id-2 div.sk-toggleable {background-color: white;}#sk-container-id-2 label.sk-toggleable__label {cursor: pointer;display: block;width: 100%;margin-bottom: 0;padding: 0.3em;box-sizing: border-box;text-align: center;}#sk-container-id-2 label.sk-toggleable__label-arrow:before {content: \"▸\";float: left;margin-right: 0.25em;color: #696969;}#sk-container-id-2 label.sk-toggleable__label-arrow:hover:before {color: black;}#sk-container-id-2 div.sk-estimator:hover label.sk-toggleable__label-arrow:before {color: black;}#sk-container-id-2 div.sk-toggleable__content {max-height: 0;max-width: 0;overflow: hidden;text-align: left;background-color: #f0f8ff;}#sk-container-id-2 div.sk-toggleable__content pre {margin: 0.2em;color: black;border-radius: 0.25em;background-color: #f0f8ff;}#sk-container-id-2 input.sk-toggleable__control:checked~div.sk-toggleable__content {max-height: 200px;max-width: 100%;overflow: auto;}#sk-container-id-2 input.sk-toggleable__control:checked~label.sk-toggleable__label-arrow:before {content: \"▾\";}#sk-container-id-2 div.sk-estimator input.sk-toggleable__control:checked~label.sk-toggleable__label {background-color: #d4ebff;}#sk-container-id-2 div.sk-label input.sk-toggleable__control:checked~label.sk-toggleable__label {background-color: #d4ebff;}#sk-container-id-2 input.sk-hidden--visually {border: 0;clip: rect(1px 1px 1px 1px);clip: rect(1px, 1px, 1px, 1px);height: 1px;margin: -1px;overflow: hidden;padding: 0;position: absolute;width: 1px;}#sk-container-id-2 div.sk-estimator {font-family: monospace;background-color: #f0f8ff;border: 1px dotted black;border-radius: 0.25em;box-sizing: border-box;margin-bottom: 0.5em;}#sk-container-id-2 div.sk-estimator:hover {background-color: #d4ebff;}#sk-container-id-2 div.sk-parallel-item::after {content: \"\";width: 100%;border-bottom: 1px solid gray;flex-grow: 1;}#sk-container-id-2 div.sk-label:hover label.sk-toggleable__label {background-color: #d4ebff;}#sk-container-id-2 div.sk-serial::before {content: \"\";position: absolute;border-left: 1px solid gray;box-sizing: border-box;top: 0;bottom: 0;left: 50%;z-index: 0;}#sk-container-id-2 div.sk-serial {display: flex;flex-direction: column;align-items: center;background-color: white;padding-right: 0.2em;padding-left: 0.2em;position: relative;}#sk-container-id-2 div.sk-item {position: relative;z-index: 1;}#sk-container-id-2 div.sk-parallel {display: flex;align-items: stretch;justify-content: center;background-color: white;position: relative;}#sk-container-id-2 div.sk-item::before, #sk-container-id-2 div.sk-parallel-item::before {content: \"\";position: absolute;border-left: 1px solid gray;box-sizing: border-box;top: 0;bottom: 0;left: 50%;z-index: -1;}#sk-container-id-2 div.sk-parallel-item {display: flex;flex-direction: column;z-index: 1;position: relative;background-color: white;}#sk-container-id-2 div.sk-parallel-item:first-child::after {align-self: flex-end;width: 50%;}#sk-container-id-2 div.sk-parallel-item:last-child::after {align-self: flex-start;width: 50%;}#sk-container-id-2 div.sk-parallel-item:only-child::after {width: 0;}#sk-container-id-2 div.sk-dashed-wrapped {border: 1px dashed gray;margin: 0 0.4em 0.5em 0.4em;box-sizing: border-box;padding-bottom: 0.4em;background-color: white;}#sk-container-id-2 div.sk-label label {font-family: monospace;font-weight: bold;display: inline-block;line-height: 1.2em;}#sk-container-id-2 div.sk-label-container {text-align: center;}#sk-container-id-2 div.sk-container {/* jupyter's `normalize.less` sets `[hidden] { display: none; }` but bootstrap.min.css set `[hidden] { display: none !important; }` so we also need the `!important` here to be able to override the default hidden behavior on the sphinx rendered scikit-learn.org. See: https://github.com/scikit-learn/scikit-learn/issues/21755 */display: inline-block !important;position: relative;}#sk-container-id-2 div.sk-text-repr-fallback {display: none;}</style><div id=\"sk-container-id-2\" class=\"sk-top-container\"><div class=\"sk-text-repr-fallback\"><pre>LinearRegression()</pre><b>In a Jupyter environment, please rerun this cell to show the HTML representation or trust the notebook. <br />On GitHub, the HTML representation is unable to render, please try loading this page with nbviewer.org.</b></div><div class=\"sk-container\" hidden><div class=\"sk-item\"><div class=\"sk-estimator sk-toggleable\"><input class=\"sk-toggleable__control sk-hidden--visually\" id=\"sk-estimator-id-2\" type=\"checkbox\" checked><label for=\"sk-estimator-id-2\" class=\"sk-toggleable__label sk-toggleable__label-arrow\">LinearRegression</label><div class=\"sk-toggleable__content\"><pre>LinearRegression()</pre></div></div></div></div></div>"
      ],
      "text/plain": [
       "LinearRegression()"
      ]
     },
     "execution_count": 41,
     "metadata": {},
     "output_type": "execute_result"
    }
   ],
   "source": [
    "model_Present_Tmin = LinearRegression()\n",
    "model_Present_Tmin.fit(X_train_max, y_train_max)"
   ]
  },
  {
   "cell_type": "code",
   "execution_count": 42,
   "id": "092368d2",
   "metadata": {},
   "outputs": [],
   "source": [
    "y_pred_Present_Tmin = model_Present_Tmin.predict(X_test_min)"
   ]
  },
  {
   "cell_type": "code",
   "execution_count": 43,
   "id": "76497ef2",
   "metadata": {},
   "outputs": [],
   "source": [
    "y_pred_Present_Tmax = model_Present_Tmax.predict(X_test_max)"
   ]
  },
  {
   "cell_type": "code",
   "execution_count": 46,
   "id": "6424f725",
   "metadata": {},
   "outputs": [
    {
     "name": "stdout",
     "output_type": "stream",
     "text": [
      "\n",
      "Minimum Temperature Prediction MSE: 48.21745410544451\n"
     ]
    }
   ],
   "source": [
    "mse_Present_Tmin = mean_squared_error(y_test_min, y_pred_Present_Tmin)\n",
    "print(f'\\nMinimum Temperature Prediction MSE: {mse_Present_Tmin}')"
   ]
  },
  {
   "cell_type": "code",
   "execution_count": 47,
   "id": "13c156eb",
   "metadata": {},
   "outputs": [
    {
     "name": "stdout",
     "output_type": "stream",
     "text": [
      "Maximum Temperature Prediction MSE: 48.402106233362886\n"
     ]
    }
   ],
   "source": [
    "mse_Present_Tmax = mean_squared_error(y_test_max, y_pred_Present_Tmax)\n",
    "print(f'Maximum Temperature Prediction MSE: {mse_Present_Tmax}')"
   ]
  },
  {
   "cell_type": "markdown",
   "id": "77df2724",
   "metadata": {},
   "source": []
  },
  {
   "cell_type": "code",
   "execution_count": null,
   "id": "7d8daf37",
   "metadata": {},
   "outputs": [],
   "source": []
  }
 ],
 "metadata": {
  "kernelspec": {
   "display_name": "Python 3 (ipykernel)",
   "language": "python",
   "name": "python3"
  },
  "language_info": {
   "codemirror_mode": {
    "name": "ipython",
    "version": 3
   },
   "file_extension": ".py",
   "mimetype": "text/x-python",
   "name": "python",
   "nbconvert_exporter": "python",
   "pygments_lexer": "ipython3",
   "version": "3.11.5"
  }
 },
 "nbformat": 4,
 "nbformat_minor": 5
}
